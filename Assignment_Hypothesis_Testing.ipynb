{
 "cells": [
  {
   "cell_type": "code",
   "execution_count": 1,
   "id": "6a9e5e7b-2699-468e-ba6f-af0e98f36ff3",
   "metadata": {
    "tags": []
   },
   "outputs": [],
   "source": [
    "import numpy as np\n",
    "import pandas as pd\n",
    "import matplotlib.pyplot as plt\n",
    "import seaborn as sns\n",
    "from scipy import stats"
   ]
  },
  {
   "cell_type": "code",
   "execution_count": null,
   "id": "5cf7a978-5d8d-445b-b8e5-4b1f19e5c1a4",
   "metadata": {},
   "outputs": [],
   "source": []
  },
  {
   "cell_type": "code",
   "execution_count": null,
   "id": "83a60c1d-5fc8-402e-bba6-d7ac344478e7",
   "metadata": {},
   "outputs": [],
   "source": []
  },
  {
   "cell_type": "code",
   "execution_count": null,
   "id": "b96523ef-e050-430e-b580-4848bdb907e2",
   "metadata": {},
   "outputs": [],
   "source": []
  },
  {
   "cell_type": "markdown",
   "id": "55154128-3416-4938-baba-f8c4f602a083",
   "metadata": {},
   "source": [
    "# Hypothesis Testing Exercise 1"
   ]
  },
  {
   "cell_type": "markdown",
   "id": "1e199712-af31-4ab1-9f11-ea9c12844521",
   "metadata": {},
   "source": [
    "## A F&B manager wants to determine whether there is any significant difference in the diameter of the cutlet between two units. A randomly selected sample of cutlets was collected from both units and measured? Analyze the data and draw inferences at 5% significance level. Please state the assumptions and tests that you carried out to check validity of the assumptions.   "
   ]
  },
  {
   "cell_type": "markdown",
   "id": "6ccb4ece-8fac-4f0d-abec-e924220608b5",
   "metadata": {},
   "source": [
    "### Minitab File : Cutlets.mtw"
   ]
  },
  {
   "cell_type": "code",
   "execution_count": 6,
   "id": "bccaf32f-fa82-4a09-b351-1a25aa5eff38",
   "metadata": {
    "tags": []
   },
   "outputs": [],
   "source": [
    "# getting the data into a dataframe\n",
    "df = pd.read_csv('Cutlets.csv')"
   ]
  },
  {
   "cell_type": "markdown",
   "id": "561b6498-4c11-4571-b1a4-1da6e746e7e1",
   "metadata": {
    "tags": []
   },
   "source": [
    "As we will be comparing difference of two independent quantitative samples, we'll be using a two sample t test i.e. scipy.stats.ttest_ind(a, b)\n",
    "  \n",
    "This test has the following assumptions:\n",
    "- Random Sampling (Satisfied. Mentioned in the problem statement)\n",
    "- Independence (Satisfied. datapoints are from different units)\n",
    "- Normality\n",
    "- Homogeneity of Variances"
   ]
  },
  {
   "cell_type": "code",
   "execution_count": 11,
   "id": "999a3c5d-41c1-4471-9988-8442dc73c599",
   "metadata": {
    "tags": []
   },
   "outputs": [
    {
     "name": "stdout",
     "output_type": "stream",
     "text": [
      "ShapiroResult(statistic=0.9649459719657898, pvalue=0.31998491287231445)\n",
      "ShapiroResult(statistic=0.9727305769920349, pvalue=0.5225146412849426)\n"
     ]
    }
   ],
   "source": [
    "# Test for normality\n",
    "print(stats.shapiro(df['Unit A']))\n",
    "print(stats.shapiro(df['Unit B']))\n",
    "# as the p value is greater than 0.05 for both units, we consider them to have a normal distribution"
   ]
  },
  {
   "cell_type": "code",
   "execution_count": 20,
   "id": "a45f25a9-0411-4f33-b369-87a31aa1d3b5",
   "metadata": {
    "tags": []
   },
   "outputs": [
    {
     "name": "stdout",
     "output_type": "stream",
     "text": [
      "Unit A    0.083179\n",
      "Unit B    0.117924\n",
      "dtype: float64\n"
     ]
    },
    {
     "data": {
      "text/plain": [
       "True"
      ]
     },
     "execution_count": 20,
     "metadata": {},
     "output_type": "execute_result"
    }
   ],
   "source": [
    "# Test for Homogeneity of Variances\n",
    "# This means that variance of both samples are approximately the same. \n",
    "# We consider them to be the same if ratio of larger to smaller is less than 4\n",
    "print(df.var())\n",
    "df['Unit B'].var()/df['Unit A'].var() < 4\n",
    "# As ratio of larger to smaller variance is less than 4, this assumption is also met"
   ]
  },
  {
   "cell_type": "code",
   "execution_count": 25,
   "id": "449a7451-9f16-4c31-bcf8-962d97dec397",
   "metadata": {
    "tags": []
   },
   "outputs": [],
   "source": [
    "# Defining Null and alternative hypothesis\n",
    "H0 = 'There is no difference in the diameter of the cutlet of the two units'\n",
    "H1 = 'There is significant difference in the diameter of the cutlet of the two units'"
   ]
  },
  {
   "cell_type": "code",
   "execution_count": 26,
   "id": "5d68afd3-90d3-4922-afec-5ab8498e4864",
   "metadata": {
    "tags": []
   },
   "outputs": [],
   "source": [
    "# significance value\n",
    "a = 0.05"
   ]
  },
  {
   "cell_type": "code",
   "execution_count": 23,
   "id": "7ba0d4a6-b957-4ee4-ba62-4d77a6de0b86",
   "metadata": {
    "tags": []
   },
   "outputs": [],
   "source": [
    "# t test for independent samples, which returns the statistic and the p value\n",
    "t_stat, p_value = stats.ttest_ind(df['Unit A'], df['Unit B'])"
   ]
  },
  {
   "cell_type": "code",
   "execution_count": 28,
   "id": "b904c5d0-2d26-4ee3-90c5-c06392294e30",
   "metadata": {
    "tags": []
   },
   "outputs": [
    {
     "name": "stdout",
     "output_type": "stream",
     "text": [
      "There is no difference in the diameter of the cutlet of the two units\n"
     ]
    }
   ],
   "source": [
    "# if the p_value is smaller than the significance level, we reject the Null Hypothesis\n",
    "if p_value > a:\n",
    "    print(H0)\n",
    "else:\n",
    "    print(H1)"
   ]
  },
  {
   "cell_type": "code",
   "execution_count": null,
   "id": "e6e831e1-a999-46e0-8569-5daa52ba4db9",
   "metadata": {},
   "outputs": [],
   "source": []
  },
  {
   "cell_type": "code",
   "execution_count": null,
   "id": "38d994fb-c6ea-4e76-af1f-3a7eb0edff0c",
   "metadata": {},
   "outputs": [],
   "source": []
  },
  {
   "cell_type": "code",
   "execution_count": null,
   "id": "64ce7474-2b43-43b8-87e5-f551cc4062ff",
   "metadata": {},
   "outputs": [],
   "source": []
  },
  {
   "cell_type": "markdown",
   "id": "76156d9b-6407-4974-bf00-44af39e40bf5",
   "metadata": {},
   "source": [
    "# Hypothesis Testing Exercise 2"
   ]
  },
  {
   "cell_type": "markdown",
   "id": "9b3ec9f4-a9f5-48aa-a7b7-aba2b5535716",
   "metadata": {},
   "source": [
    "## A hospital wants to determine whether there is any difference in the average Turn Around Time (TAT) of reports of the laboratories on their preferred list. They collected a random sample and recorded TAT for reports of 4 laboratories. TAT is defined as sample collected to report dispatch. \n",
    "## Analyze the data and determine whether there is any difference in average TAT among the different laboratories at 5% significance level."
   ]
  },
  {
   "cell_type": "markdown",
   "id": "6f01da2d-9827-4ba9-9266-92131b0fb1e6",
   "metadata": {},
   "source": [
    "### Minitab File: LabTAT.mtw"
   ]
  },
  {
   "cell_type": "code",
   "execution_count": 30,
   "id": "21a2fb22-257d-42b1-8fb7-369bf7c1cca5",
   "metadata": {
    "tags": []
   },
   "outputs": [],
   "source": [
    "# creating a dataframe from the samples\n",
    "df = pd.read_csv('LabTAT.csv')"
   ]
  },
  {
   "cell_type": "markdown",
   "id": "a62265a9-a8bb-4c6d-9110-13a859640bc3",
   "metadata": {},
   "source": [
    "As we want to know if there is any variance between TAT for all labs, we use ANOVA"
   ]
  },
  {
   "cell_type": "code",
   "execution_count": 46,
   "id": "97c2d807-7920-4bf5-b707-b4fb8388b8ee",
   "metadata": {
    "tags": []
   },
   "outputs": [],
   "source": [
    "# defining Null and Alternate Hypothesis\n",
    "H0 = 'There is no difference in average TAT among the different laboratories'\n",
    "H1 = 'There is significant difference in average TAT among the different laboratories'"
   ]
  },
  {
   "cell_type": "code",
   "execution_count": 35,
   "id": "3d972bb3-a349-42c2-8413-fee8dab6c083",
   "metadata": {
    "tags": []
   },
   "outputs": [],
   "source": [
    "# significance value\n",
    "a = 0.05"
   ]
  },
  {
   "cell_type": "code",
   "execution_count": 38,
   "id": "83e50f5e-53d5-4fc8-be2a-a69588ab51bd",
   "metadata": {
    "tags": []
   },
   "outputs": [],
   "source": [
    "# ANOVA test\n",
    "f_stat, p_value = stats.f_oneway(df['Laboratory 1'], df['Laboratory 2'], df['Laboratory 3'], df['Laboratory 4'])"
   ]
  },
  {
   "cell_type": "code",
   "execution_count": 40,
   "id": "32e703b9-25e4-4e4b-a517-35d5cfa130be",
   "metadata": {
    "tags": []
   },
   "outputs": [
    {
     "name": "stdout",
     "output_type": "stream",
     "text": [
      "There is significant difference in average TAT among the different laboratories\n"
     ]
    }
   ],
   "source": [
    "# if the p_value is smaller than the significance level, we reject the Null Hypothesis\n",
    "if p_value > a:\n",
    "    print(H0)\n",
    "else:\n",
    "    print(H1)"
   ]
  },
  {
   "cell_type": "code",
   "execution_count": null,
   "id": "36aa6341-de46-421e-9e64-3a915537769e",
   "metadata": {},
   "outputs": [],
   "source": []
  },
  {
   "cell_type": "code",
   "execution_count": null,
   "id": "66db3562-23c6-49e7-915f-c00a9e60b0a5",
   "metadata": {},
   "outputs": [],
   "source": []
  },
  {
   "cell_type": "code",
   "execution_count": null,
   "id": "dd80416d-da55-42c3-9b4e-3e28887c5ff9",
   "metadata": {},
   "outputs": [],
   "source": []
  },
  {
   "cell_type": "markdown",
   "id": "4970b5f7-ee0d-41b7-9282-a1dc638d7a83",
   "metadata": {},
   "source": [
    "# Hypothesis Testing Exercise 3"
   ]
  },
  {
   "cell_type": "markdown",
   "id": "b0b4bdc4-4c64-4b03-83ad-049dbda90fdd",
   "metadata": {},
   "source": [
    "## Sales of products in four different regions is tabulated for males and females. Find if male-female buyer rations are similar across regions."
   ]
  },
  {
   "cell_type": "markdown",
   "id": "0fa03329-2cc5-49dd-ac3f-08e7a54a18f1",
   "metadata": {},
   "source": [
    "### Buyer Ratio.mtw"
   ]
  },
  {
   "cell_type": "code",
   "execution_count": 45,
   "id": "f706da98-d997-42ba-ae92-01e90b3781eb",
   "metadata": {
    "tags": []
   },
   "outputs": [
    {
     "data": {
      "text/html": [
       "<div>\n",
       "<style scoped>\n",
       "    .dataframe tbody tr th:only-of-type {\n",
       "        vertical-align: middle;\n",
       "    }\n",
       "\n",
       "    .dataframe tbody tr th {\n",
       "        vertical-align: top;\n",
       "    }\n",
       "\n",
       "    .dataframe thead th {\n",
       "        text-align: right;\n",
       "    }\n",
       "</style>\n",
       "<table border=\"1\" class=\"dataframe\">\n",
       "  <thead>\n",
       "    <tr style=\"text-align: right;\">\n",
       "      <th></th>\n",
       "      <th>East</th>\n",
       "      <th>West</th>\n",
       "      <th>North</th>\n",
       "      <th>South</th>\n",
       "    </tr>\n",
       "    <tr>\n",
       "      <th>Observed Values</th>\n",
       "      <th></th>\n",
       "      <th></th>\n",
       "      <th></th>\n",
       "      <th></th>\n",
       "    </tr>\n",
       "  </thead>\n",
       "  <tbody>\n",
       "    <tr>\n",
       "      <th>Males</th>\n",
       "      <td>50</td>\n",
       "      <td>142</td>\n",
       "      <td>131</td>\n",
       "      <td>70</td>\n",
       "    </tr>\n",
       "    <tr>\n",
       "      <th>Females</th>\n",
       "      <td>435</td>\n",
       "      <td>1523</td>\n",
       "      <td>1356</td>\n",
       "      <td>750</td>\n",
       "    </tr>\n",
       "  </tbody>\n",
       "</table>\n",
       "</div>"
      ],
      "text/plain": [
       "                 East  West  North  South\n",
       "Observed Values                          \n",
       "Males              50   142    131     70\n",
       "Females           435  1523   1356    750"
      ]
     },
     "execution_count": 45,
     "metadata": {},
     "output_type": "execute_result"
    }
   ],
   "source": [
    "# creating a data frame of the contingency table\n",
    "df = pd.read_csv('BuyerRatio.csv', index_col = 'Observed Values')\n",
    "df"
   ]
  },
  {
   "cell_type": "markdown",
   "id": "3433d7da-6238-410c-bbab-f606e0c80b8b",
   "metadata": {},
   "source": [
    "As we want to know if buyer ratios are same across regions for both sexes, we will use Chi Squared Test for Homogeneity"
   ]
  },
  {
   "cell_type": "code",
   "execution_count": 47,
   "id": "22ae7e60-8741-49a5-8b1b-f6f9997199b2",
   "metadata": {
    "tags": []
   },
   "outputs": [],
   "source": [
    "# Defining Null and Alternate Hypothesis\n",
    "H0 = 'All proportions are equal'\n",
    "H1 = 'Not all proportions are equal'"
   ]
  },
  {
   "cell_type": "code",
   "execution_count": 48,
   "id": "da7c613b-84db-485c-a473-21e3377042e9",
   "metadata": {
    "tags": []
   },
   "outputs": [],
   "source": [
    "# significance value\n",
    "a = 0.05"
   ]
  },
  {
   "cell_type": "code",
   "execution_count": 52,
   "id": "27208fd5-d939-4161-a069-eece85d084f1",
   "metadata": {
    "tags": []
   },
   "outputs": [],
   "source": [
    "# Chi Squared Test\n",
    "chi_stat, p_value, dof, expected_freq = stats.chi2_contingency(df)"
   ]
  },
  {
   "cell_type": "code",
   "execution_count": 53,
   "id": "20b084d3-f096-4bdb-99bf-70649b73bd71",
   "metadata": {
    "tags": []
   },
   "outputs": [
    {
     "name": "stdout",
     "output_type": "stream",
     "text": [
      "All proportions are equal\n"
     ]
    }
   ],
   "source": [
    "# if the p_value is smaller than the significance level, we reject the Null Hypothesis\n",
    "if p_value > a:\n",
    "    print(H0)\n",
    "else:\n",
    "    print(H1)"
   ]
  },
  {
   "cell_type": "code",
   "execution_count": null,
   "id": "8e461f35-fa82-4071-8406-26790f6900a2",
   "metadata": {},
   "outputs": [],
   "source": []
  },
  {
   "cell_type": "code",
   "execution_count": null,
   "id": "6a771e82-fce6-491d-92e2-efd00cf74da8",
   "metadata": {},
   "outputs": [],
   "source": []
  },
  {
   "cell_type": "code",
   "execution_count": null,
   "id": "2f1ff4f0-ff80-4fdd-947e-fffa1a05c682",
   "metadata": {},
   "outputs": [],
   "source": []
  },
  {
   "cell_type": "markdown",
   "id": "16e071ab-4d92-4c94-a6ca-f865cae50f54",
   "metadata": {},
   "source": [
    "# Hypothesis Testing Exercise 4"
   ]
  },
  {
   "cell_type": "markdown",
   "id": "24185a82-0082-49d0-b4cb-cc974bcde540",
   "metadata": {},
   "source": [
    "##  TeleCall uses 4 centers around the globe to process customer order forms. They audit a certain %  of the customer order forms. Any error in order form renders it defective and has to be reworked before processing.  The manager wants to check whether the defective %  varies by centre. Please analyze the data at 5% significance level and help the manager draw appropriate inferences"
   ]
  },
  {
   "cell_type": "markdown",
   "id": "8ed24124-a445-46f5-a3e4-b4dacc476296",
   "metadata": {},
   "source": [
    "### Minitab File: CustomerOrderForm.mtw"
   ]
  },
  {
   "cell_type": "code",
   "execution_count": 76,
   "id": "78813d32-5b8c-4c0e-be7f-59b03bf15356",
   "metadata": {
    "tags": []
   },
   "outputs": [],
   "source": [
    "# creating a dataframe of the data\n",
    "df = pd.read_csv('Costomer+OrderForm.csv')"
   ]
  },
  {
   "cell_type": "code",
   "execution_count": 77,
   "id": "bd3d4aca-830d-40dd-ba2a-17242dbce260",
   "metadata": {
    "tags": []
   },
   "outputs": [
    {
     "name": "stdout",
     "output_type": "stream",
     "text": [
      "<class 'pandas.core.frame.DataFrame'>\n",
      "RangeIndex: 300 entries, 0 to 299\n",
      "Data columns (total 4 columns):\n",
      " #   Column        Non-Null Count  Dtype \n",
      "---  ------        --------------  ----- \n",
      " 0   Phillippines  300 non-null    object\n",
      " 1   Indonesia     300 non-null    object\n",
      " 2   Malta         300 non-null    object\n",
      " 3   India         300 non-null    object\n",
      "dtypes: object(4)\n",
      "memory usage: 9.5+ KB\n"
     ]
    }
   ],
   "source": [
    "# checking data type, total non-null entries, total entries, total columns\n",
    "df.info()"
   ]
  },
  {
   "cell_type": "code",
   "execution_count": 78,
   "id": "dbcbf425-696a-412d-a410-c66176e22600",
   "metadata": {
    "tags": []
   },
   "outputs": [
    {
     "name": "stdout",
     "output_type": "stream",
     "text": [
      "Error Free    271\n",
      "Defective      29\n",
      "Name: Phillippines, dtype: int64\n",
      "Error Free    267\n",
      "Defective      33\n",
      "Name: Indonesia, dtype: int64\n",
      "Error Free    269\n",
      "Defective      31\n",
      "Name: Malta, dtype: int64\n",
      "Error Free    280\n",
      "Defective      20\n",
      "Name: India, dtype: int64\n"
     ]
    }
   ],
   "source": [
    "# checking value counts for each column\n",
    "print(df.Phillippines.value_counts())\n",
    "print(df.Indonesia.value_counts())\n",
    "print(df.Malta.value_counts())\n",
    "print(df.India.value_counts())"
   ]
  },
  {
   "cell_type": "code",
   "execution_count": 79,
   "id": "37e73cdb-f05e-4235-b33c-d9b3d612406d",
   "metadata": {
    "tags": []
   },
   "outputs": [
    {
     "data": {
      "text/html": [
       "<div>\n",
       "<style scoped>\n",
       "    .dataframe tbody tr th:only-of-type {\n",
       "        vertical-align: middle;\n",
       "    }\n",
       "\n",
       "    .dataframe tbody tr th {\n",
       "        vertical-align: top;\n",
       "    }\n",
       "\n",
       "    .dataframe thead th {\n",
       "        text-align: right;\n",
       "    }\n",
       "</style>\n",
       "<table border=\"1\" class=\"dataframe\">\n",
       "  <thead>\n",
       "    <tr style=\"text-align: right;\">\n",
       "      <th></th>\n",
       "      <th>Phillippines</th>\n",
       "      <th>Indonesia</th>\n",
       "      <th>Malta</th>\n",
       "      <th>India</th>\n",
       "    </tr>\n",
       "  </thead>\n",
       "  <tbody>\n",
       "    <tr>\n",
       "      <th>Error Free</th>\n",
       "      <td>271</td>\n",
       "      <td>267</td>\n",
       "      <td>269</td>\n",
       "      <td>280</td>\n",
       "    </tr>\n",
       "    <tr>\n",
       "      <th>Defective</th>\n",
       "      <td>29</td>\n",
       "      <td>33</td>\n",
       "      <td>31</td>\n",
       "      <td>20</td>\n",
       "    </tr>\n",
       "  </tbody>\n",
       "</table>\n",
       "</div>"
      ],
      "text/plain": [
       "            Phillippines  Indonesia  Malta  India\n",
       "Error Free           271        267    269    280\n",
       "Defective             29         33     31     20"
      ]
     },
     "execution_count": 79,
     "metadata": {},
     "output_type": "execute_result"
    }
   ],
   "source": [
    "df = df.apply(pd.value_counts)\n",
    "df"
   ]
  },
  {
   "cell_type": "code",
   "execution_count": 80,
   "id": "bbfdb440-a94b-470e-9353-e89cc1cb31d1",
   "metadata": {
    "tags": []
   },
   "outputs": [],
   "source": [
    "# Defining Null and Alternate Hypothesis\n",
    "H0 = 'Proportion of defects for each center is the same'\n",
    "H1 = 'Proportion of defects vary by center'"
   ]
  },
  {
   "cell_type": "code",
   "execution_count": 81,
   "id": "0e925be8-47d8-4c9f-afe3-be6a5f909cc7",
   "metadata": {
    "tags": []
   },
   "outputs": [],
   "source": [
    "# Significance value\n",
    "a = 0.05"
   ]
  },
  {
   "cell_type": "code",
   "execution_count": 83,
   "id": "255b78fc-91d8-4353-928d-c20f4c776ae2",
   "metadata": {
    "tags": []
   },
   "outputs": [],
   "source": [
    "chi_stat, p_value, dof, expected_freq = stats.chi2_contingency(df)"
   ]
  },
  {
   "cell_type": "code",
   "execution_count": 84,
   "id": "91d8bfa4-18a1-476b-aee2-e507e83dabee",
   "metadata": {
    "tags": []
   },
   "outputs": [
    {
     "name": "stdout",
     "output_type": "stream",
     "text": [
      "Proportion of defects for each center is the same\n"
     ]
    }
   ],
   "source": [
    "# if the p_value is smaller than the significance level, we reject the Null Hypothesis\n",
    "if p_value > a:\n",
    "    print(H0)\n",
    "else:\n",
    "    print(H1)"
   ]
  },
  {
   "cell_type": "code",
   "execution_count": null,
   "id": "52e7438f-0c1b-40bf-9dd8-daab7ca25b57",
   "metadata": {},
   "outputs": [],
   "source": []
  }
 ],
 "metadata": {
  "kernelspec": {
   "display_name": "Python 3 (ipykernel)",
   "language": "python",
   "name": "python3"
  },
  "language_info": {
   "codemirror_mode": {
    "name": "ipython",
    "version": 3
   },
   "file_extension": ".py",
   "mimetype": "text/x-python",
   "name": "python",
   "nbconvert_exporter": "python",
   "pygments_lexer": "ipython3",
   "version": "3.8.16"
  }
 },
 "nbformat": 4,
 "nbformat_minor": 5
}
